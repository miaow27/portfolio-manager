{
 "cells": [
  {
   "cell_type": "code",
   "execution_count": 50,
   "metadata": {},
   "outputs": [],
   "source": [
    "import requests\n",
    "\n",
    "import json\n",
    "\n",
    "import re"
   ]
  },
  {
   "cell_type": "code",
   "execution_count": 51,
   "metadata": {},
   "outputs": [],
   "source": [
    "def get_stock_price_previous_close(s, type = 'stock'):\n",
    "\n",
    "    key = \"qiwvnAkCH9kez5KSxaticnXPcwoczKjh\"\n",
    "\n",
    "    with requests.Session() as ses:\n",
    "        s = s.replace('-', '').strip().upper()\n",
    "\n",
    "        if type == 'crypto':\n",
    "            if re.search('USD', s):\n",
    "                s = 'X:' + s\n",
    "            else:\n",
    "                s = 'X:' + s + 'USD'\n",
    "        print(s)\n",
    "        url = 'https://api.polygon.io/v2/aggs/ticker/' + s + '/prev?unadjusted=true&apiKey=' + key\n",
    "        p = 0\n",
    "        try:\n",
    "            p = float(ses.get(url).json()['results'][0]['c']) # closing price\n",
    "        except:\n",
    "            pass\n",
    "    return p"
   ]
  },
  {
   "cell_type": "code",
   "execution_count": 55,
   "metadata": {},
   "outputs": [
    {
     "output_type": "stream",
     "name": "stdout",
     "text": [
      "AAPL\n"
     ]
    },
    {
     "output_type": "execute_result",
     "data": {
      "text/plain": [
       "124.97"
      ]
     },
     "metadata": {},
     "execution_count": 55
    }
   ],
   "source": [
    "get_stock_price_previous_close('AAPL')"
   ]
  },
  {
   "cell_type": "code",
   "execution_count": 53,
   "metadata": {},
   "outputs": [
    {
     "output_type": "stream",
     "name": "stdout",
     "text": [
      "COUR\n"
     ]
    },
    {
     "output_type": "execute_result",
     "data": {
      "text/plain": [
       "34.3"
      ]
     },
     "metadata": {},
     "execution_count": 53
    }
   ],
   "source": [
    "get_stock_price_previous_close('COUR')"
   ]
  },
  {
   "cell_type": "code",
   "execution_count": 54,
   "metadata": {},
   "outputs": [
    {
     "output_type": "stream",
     "name": "stdout",
     "text": [
      "X:BTCUSD\n"
     ]
    },
    {
     "output_type": "execute_result",
     "data": {
      "text/plain": [
       "49697.11"
      ]
     },
     "metadata": {},
     "execution_count": 54
    }
   ],
   "source": [
    "get_stock_price_previous_close('BTC-USD', type = 'crypto')"
   ]
  },
  {
   "cell_type": "code",
   "execution_count": 56,
   "metadata": {},
   "outputs": [
    {
     "output_type": "stream",
     "name": "stdout",
     "text": [
      "X:DOGEUSD\n"
     ]
    },
    {
     "output_type": "execute_result",
     "data": {
      "text/plain": [
       "0.18231395"
      ]
     },
     "metadata": {},
     "execution_count": 56
    }
   ],
   "source": [
    "get_stock_price_previous_close('DOGE', type = 'crypto')"
   ]
  },
  {
   "cell_type": "code",
   "execution_count": 57,
   "metadata": {},
   "outputs": [
    {
     "output_type": "stream",
     "name": "stdout",
     "text": [
      "TSLA\n"
     ]
    },
    {
     "output_type": "execute_result",
     "data": {
      "text/plain": [
       "571.69"
      ]
     },
     "metadata": {},
     "execution_count": 57
    }
   ],
   "source": [
    "get_stock_price_previous_close('TSLA')"
   ]
  },
  {
   "cell_type": "code",
   "execution_count": 58,
   "metadata": {},
   "outputs": [
    {
     "output_type": "stream",
     "name": "stdout",
     "text": [
      "GOEX\n"
     ]
    },
    {
     "output_type": "execute_result",
     "data": {
      "text/plain": [
       "32.72"
      ]
     },
     "metadata": {},
     "execution_count": 58
    }
   ],
   "source": [
    "get_stock_price_previous_close('GOEX')"
   ]
  },
  {
   "cell_type": "code",
   "execution_count": 59,
   "metadata": {},
   "outputs": [
    {
     "output_type": "stream",
     "name": "stdout",
     "text": [
      "COPX\n"
     ]
    },
    {
     "output_type": "execute_result",
     "data": {
      "text/plain": [
       "41.9"
      ]
     },
     "metadata": {},
     "execution_count": 59
    }
   ],
   "source": [
    "get_stock_price_previous_close('COPX')"
   ]
  },
  {
   "cell_type": "code",
   "execution_count": 60,
   "metadata": {},
   "outputs": [
    {
     "output_type": "stream",
     "name": "stdout",
     "text": [
      "VIG\n"
     ]
    },
    {
     "output_type": "execute_result",
     "data": {
      "text/plain": [
       "153.96"
      ]
     },
     "metadata": {},
     "execution_count": 60
    }
   ],
   "source": [
    "get_stock_price_previous_close('VIG')"
   ]
  },
  {
   "cell_type": "code",
   "execution_count": null,
   "metadata": {},
   "outputs": [],
   "source": []
  }
 ],
 "metadata": {
  "kernelspec": {
   "name": "python385jvsc74a57bd0dca0ade3e726a953b501b15e8e990130d2b7799f14cfd9f4271676035ebe5511",
   "display_name": "Python 3.8.5 64-bit ('base': conda)"
  },
  "language_info": {
   "codemirror_mode": {
    "name": "ipython",
    "version": 3
   },
   "file_extension": ".py",
   "mimetype": "text/x-python",
   "name": "python",
   "nbconvert_exporter": "python",
   "pygments_lexer": "ipython3",
   "version": "3.8.5"
  }
 },
 "nbformat": 4,
 "nbformat_minor": 4
}